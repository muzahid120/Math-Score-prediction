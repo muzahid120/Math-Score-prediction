{
 "cells": [
  {
   "cell_type": "code",
   "execution_count": 22,
   "metadata": {},
   "outputs": [],
   "source": [
    "from typing import List\n",
    "\n",
    "hypen='-e .'"
   ]
  },
  {
   "cell_type": "code",
   "execution_count": 23,
   "metadata": {},
   "outputs": [],
   "source": [
    "def fuc(file_path:str)->List[str]:\n",
    "    req=[]\n",
    "\n",
    "    with open(file_path) as file:\n",
    "\n",
    "        req=file.readlines()\n",
    "        for line in req:\n",
    "            reqs=line.strip()\n",
    "            if reqs.startswith('/'):\n",
    "                reqs=reqs[1:]\n",
    "\n",
    "            if reqs !=hypen:\n",
    "                req.append(reqs)\n",
    "            \n",
    "\n",
    "       \n",
    "\n",
    "    return req"
   ]
  }
 ],
 "metadata": {
  "kernelspec": {
   "display_name": "test2",
   "language": "python",
   "name": "python3"
  },
  "language_info": {
   "codemirror_mode": {
    "name": "ipython",
    "version": 3
   },
   "file_extension": ".py",
   "mimetype": "text/x-python",
   "name": "python",
   "nbconvert_exporter": "python",
   "pygments_lexer": "ipython3",
   "version": "3.8.18"
  }
 },
 "nbformat": 4,
 "nbformat_minor": 2
}
